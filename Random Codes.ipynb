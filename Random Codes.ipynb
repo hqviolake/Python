{
 "cells": [
  {
   "cell_type": "markdown",
   "id": "2642e0ae",
   "metadata": {},
   "source": [
    "### Crie uma função anônima que converta cada temperatura para Fahrenheit"
   ]
  },
  {
   "cell_type": "code",
   "execution_count": null,
   "id": "0ff203a3",
   "metadata": {},
   "outputs": [],
   "source": [
    "c = [60, 80, 100, 120]\n",
    "\n",
    "f = list(map(lambda x: x*(9/5)+32, c))\n",
    "print(f)\n",
    "formatado = 'R$'\n",
    "l = lambda x, f: str(f) + str(x)\n",
    "\n",
    "print(l(100, formatado))"
   ]
  },
  {
   "cell_type": "markdown",
   "id": "adb76b86",
   "metadata": {},
   "source": [
    "### Faça um programa que leia o nome e peso de várias pessoas, guardando tudo em uma lista. No final mostre:\n",
    "* A) Quantas pessoas foram cadastradas\n",
    "* B) Uma listagem com as pessoas mais pesadas\n",
    "* C) Uma listagem com as pessoas mais leves"
   ]
  },
  {
   "cell_type": "code",
   "execution_count": null,
   "id": "e738463e",
   "metadata": {},
   "outputs": [],
   "source": [
    "cadastro = []\n",
    "dados = []\n",
    "maior = menor = 0\n",
    "while True:\n",
    "    nome = dados.append(str(input('Digite o seu nome: ')))\n",
    "    peso = dados.append(int(input('Digite o seu peso: ')))\n",
    "    if len(cadastro) == 0:\n",
    "        maior = menor = dados[1]\n",
    "    else:\n",
    "        if dados[1] > maior:\n",
    "            maior = dados[1]\n",
    "        if dados[1] < menor:\n",
    "            menor = dados[1]\n",
    "    cadastro.append(dados[:])\n",
    "    dados.clear()\n",
    "    continuar = str(input('Cadastrar novo usuário? ')).strip().upper()[0]\n",
    "    if continuar == 'N':\n",
    "        break\n",
    "\n",
    "print(f'Foram cadastrados {len(cadastro)} pessoas')\n",
    "print(f'O maior peso foi de: {maior} ', end= '')\n",
    "for p in cadastro:\n",
    "    if p[1] == maior:\n",
    "        print(f'{p[0]}')\n",
    "print(f'O menor peso foi de: {menor} ', end='')\n",
    "\n",
    "for p in cadastro:\n",
    "    if p[1] == menor:\n",
    "        print(f'{p[0]}')"
   ]
  },
  {
   "cell_type": "markdown",
   "id": "632a597f",
   "metadata": {},
   "source": [
    "### Crie um programa onde o usuário posse digitar sete valores númericos e cadastre-os em uma lista única que mantenha separados os valores pares e imapres. No final, mostre os valores pares e impares em ordem crescente"
   ]
  },
  {
   "cell_type": "code",
   "execution_count": null,
   "id": "f5780fe1",
   "metadata": {},
   "outputs": [],
   "source": [
    "cont = 1\n",
    "total = []\n",
    "par = []\n",
    "impar = []\n",
    "while cont < 8:\n",
    "    num = int(input(f'Digite o {cont}º número: '))\n",
    "    cont += 1\n",
    "    total.append(num)\n",
    "    for n in total:\n",
    "        if n % 2 == 0:\n",
    "            par.append(total[:])\n",
    "            total.clear()\n",
    "        if n % 2 != 0:\n",
    "            impar.append(total[:])\n",
    "            total.clear()\n",
    "\n",
    "print(f'Os números pares são: {sorted(par)} ')\n",
    "print(f'Os números ímpares são: {sorted(impar)}')"
   ]
  },
  {
   "cell_type": "markdown",
   "id": "8b1c3ede",
   "metadata": {},
   "source": [
    "### Faça um programa que ajude um jogador da mega sena a criar palpites. O programa vai perguntar quantos jogos serão gerados e vai sortear 6 números entre 1 e 60 para cada jogo, cadastrando tudo em uma lista composta."
   ]
  },
  {
   "cell_type": "code",
   "execution_count": null,
   "id": "82fafdb4",
   "metadata": {},
   "outputs": [],
   "source": [
    "from random import randint\n",
    "from time import sleep\n",
    "lista = list()\n",
    "jogo = list()\n",
    "i = 0\n",
    "jogos = int(input('Quantos jogos que sortear? '))\n",
    "print('-'*30)\n",
    "print('     JOGO NA MEGA SENA     ')\n",
    "print('-'*30)\n",
    "while i < jogos:\n",
    "    while len(lista) != 6:\n",
    "        aleatorio = randint(1, 60)\n",
    "        if aleatorio not in lista:\n",
    "            lista.append(aleatorio)\n",
    "    jogo.append(lista[:])\n",
    "    lista.clear()\n",
    "    i += 1\n",
    "for i, j in enumerate(jogo):\n",
    "    print(f'Jogo {i+1}: {j}')\n",
    "    sleep(1)\n",
    "\n",
    "print('-'*30)"
   ]
  },
  {
   "cell_type": "markdown",
   "id": "6cf6b4fc",
   "metadata": {},
   "source": [
    "### Crie um programa que leia nome e duas notas de vários alunos e guarde tudo em uma lista composta. No final, mostre um boletim contendo a média de cada um e permita que o usuário possa mostrar as notas de cada aluno individualmente"
   ]
  },
  {
   "cell_type": "code",
   "execution_count": null,
   "id": "b74ecba0",
   "metadata": {},
   "outputs": [],
   "source": [
    "lista = list()\n",
    "while True:\n",
    "    nome = str(input('Digite o seu nome: ')).capitalize().strip()\n",
    "    nota1 = float(input(f'Digite a sua primeira nota: '))\n",
    "    nota2 = float(input(f'Digite a sua segunda nota: '))\n",
    "    media = (nota1 + nota2) / 2\n",
    "    lista.append([nome, [nota1, nota2], media])\n",
    "    continuar = str(input('Deseja cadastrar um novo aluno? ')).strip().upper()[0]\n",
    "    if continuar == 'N':\n",
    "        break\n",
    "print(f'{\"No.\":<4}{\"NOME\":<10}{\"MÉDIA\":>8}')\n",
    "for i, a in enumerate(lista):\n",
    "    print(f'{i:<4}{a[0]:<10}{a[2]:>7}')\n",
    "\n",
    "while True:\n",
    "    aluno = int(input('Deseja ver as notas de qual aluno? '))\n",
    "    if aluno == 999:\n",
    "        break\n",
    "    if aluno <= len(lista) -1:\n",
    "        print(f'As notas de {lista[aluno][0]} são: {lista[aluno][1]}')"
   ]
  },
  {
   "cell_type": "markdown",
   "id": "7f05a392",
   "metadata": {},
   "source": [
    "### Crie um programa que leia o nome de uma cidade e diga se ela começa ou não com o nome santo"
   ]
  },
  {
   "cell_type": "code",
   "execution_count": null,
   "id": "09d6533b",
   "metadata": {},
   "outputs": [],
   "source": [
    "print('Desafio 24')\n",
    "\n",
    "nome_cidade = input('Em que cidade você nasceu: ')\n",
    "\n",
    "ab = nome_cidade[:5].upper() == 'SANTO'\n",
    "print(ab)"
   ]
  },
  {
   "cell_type": "markdown",
   "id": "9df112cc",
   "metadata": {},
   "source": [
    "### Crie um programa que leia o nome de uma pessoa e diga se ela tem \"SILVA\" no nome"
   ]
  },
  {
   "cell_type": "code",
   "execution_count": null,
   "id": "3c8a4d65",
   "metadata": {},
   "outputs": [],
   "source": [
    "print('Desafio 25')\n",
    "nome = input('Digite o seu nome completo: ').strip()\n",
    "\n",
    "localizador = 'SILVA' in nome.upper()\n",
    "print(localizador)"
   ]
  },
  {
   "cell_type": "markdown",
   "id": "3d4e97b7",
   "metadata": {},
   "source": [
    "### Faça um programa que leia o nome completo de uma pessoa, mostrando em seguida o primeiro e o ultimo nome separadamente"
   ]
  },
  {
   "cell_type": "code",
   "execution_count": null,
   "id": "20c6265e",
   "metadata": {},
   "outputs": [],
   "source": [
    "print('Desafio 26=7')\n",
    "nome = input('Digite o seu nome completo: ')\n",
    "div = nome.split()\n",
    "\n",
    "print('O nome é: {}\\n'\n",
    "      'Primeiro nome: {}\\n'\n",
    "      'Segundo nome: {}'.format((nome), nome.split()[0], nome.split()[-1]))"
   ]
  },
  {
   "cell_type": "markdown",
   "id": "eefa89d3",
   "metadata": {},
   "source": [
    "### Desenvolva uma lógica que leia o peso e altura de uma pessoa, calcule o seu IMC e mostre o seu status de acordo com a tabela abaixo:"
   ]
  },
  {
   "cell_type": "code",
   "execution_count": null,
   "id": "421a387b",
   "metadata": {},
   "outputs": [],
   "source": [
    "Abaixo de 18.5: Abaixo do peso\n",
    "Entre 18.5 e 25: Peso Ideal\n",
    "25 até 30: Sobrepeso\n",
    "30 até 40: Obesidade\n",
    "Acima de 40: Obesidade Mórbida\n",
    "\n",
    "\n",
    "print('Desafio 43')\n",
    "\n",
    "print('\\033[1mBem vindo a calculadora de IMC\\033[0m'\n",
    "      '\\n')\n",
    "altura = float(input('Qual a sua altura em metros: '))\n",
    "peso = float(input('Qual o seu peso em KG: '))\n",
    "imc = peso / (altura)**2\n",
    "\n",
    "if imc <= 18.5:\n",
    "    print('Você está \\033[1:30mabaixo do peso'\n",
    "          '\\nIMC: {:.1f}'.format(imc))\n",
    "elif 18.5 < imc <= 24.9:\n",
    "    print('Você está com o peso ideal'\n",
    "          '\\nIMC: {:.1f}'.format(imc))\n",
    "elif 25 < imc <= 29.9:\n",
    "    print('Você está com sobrepeso'\n",
    "          '\\nIMC: {:.1f}'.format(imc))\n",
    "elif 30 < imc <= 39.9:\n",
    "    print('Você está com obesidade'\n",
    "          '\\nIMC {:.1f}'.format(imc))\n",
    "else:\n",
    "    print('Você está com obesidade grave'\n",
    "          '\\nIMC: {:.1f}'.format(imc))\n",
    "\n",
    "\n",
    "engordar = ((18.5 * altura ** 2) - peso)\n",
    "emagrecer = (peso - (24.9 * altura ** 2))\n",
    "if imc < 18.5:\n",
    "    print('Você precisa engordar no mínimo {:.1f} kg para chegar ao PESO IDEAL.'.format(engordar))\n",
    "    print('Seu peso ideal é {:.1f} kg.'.format(peso-engordar))\n",
    "elif imc >= 25:\n",
    "    print('Você precisa emagrecer no mínimo {:.1f} kg para chegar ao PESO IDEAL.'.format(emagrecer))\n",
    "    print('Seu peso ideal é {:.1f} kg.'.format(peso-emagrecer))"
   ]
  },
  {
   "cell_type": "markdown",
   "id": "e7d43235",
   "metadata": {},
   "source": [
    "### Elabore um programa que calcule o valor a ser pago por um produto, considerando o seu preço normal e condição de pagamento:\n",
    "* à vista dinheiro/cheque: 10% de desconto\n",
    "* à vista no cartão: 5% de desconto\n",
    "* em até 2x no cartão: preço normal\n",
    "* 3x ou mais no cartão: 20% de juros"
   ]
  },
  {
   "cell_type": "code",
   "execution_count": null,
   "id": "712945f3",
   "metadata": {},
   "outputs": [],
   "source": [
    "forma_pagamento = input('\\033[1mQual será a forma de pagamento?\\033[0m \\n1. À vista no dinheiro/cheque'\n",
    "                        ' \\n2. À vista no cartão \\n3. Parcelado no cartão \\n Forma de Pagamento: ').strip()\n",
    "valor_produto = float(input('Digite o valor do produto: '))\n",
    "\n",
    "if forma_pagamento == '1' or forma_pagamento == 'dinheiro' or forma_pagamento == 'cheque':\n",
    "    print('À vista tem desconto de 10%, então o valor do produto será {:.1f}R$'.format(valor_produto*0.9))\n",
    "\n",
    "elif forma_pagamento == '2' or forma_pagamento == 'cartão' or forma_pagamento == 'cartao':\n",
    "    print('À vista no cartão tem desconto de 5%, então o valor do produto será {:.1f}R$'.format(valor_produto*0.95))\n",
    "\n",
    "elif forma_pagamento == '3' or forma_pagamento == '2x no cartão' or forma_pagamento == 'em 2x no cartão':\n",
    "    print('O valor do produto será {:.1f}R$'.format(valor_produto))\n",
    "\n",
    "else:\n",
    "    print('O valor do produto parcelado em 3x ou mais custará {:.1f}R$'.format(valor_produto*1.2))"
   ]
  },
  {
   "cell_type": "markdown",
   "id": "2d0829a8",
   "metadata": {},
   "source": [
    "### Crie um programa que faça o computador jogar pedra papel e tesoura com você"
   ]
  },
  {
   "cell_type": "code",
   "execution_count": null,
   "id": "f36a771c",
   "metadata": {},
   "outputs": [],
   "source": [
    "import time\n",
    "import random\n",
    "tipo = ['pedra','papel','tesoura']\n",
    "print('Vamos jogar pedra, papel e tesoura')\n",
    "player_input = input('Jogue: ').lower()\n",
    "print(3)\n",
    "time.sleep(1)\n",
    "print(2)\n",
    "time.sleep(1)\n",
    "print(1)\n",
    "time.sleep(1)\n",
    "comp = random.choice(tipo)\n",
    "print('Computador: {}\\n'\n",
    "      'Player: {}'.format(comp, player_input))\n",
    "\n",
    "if comp == player_input:\n",
    "    print('Empate, jogue novamente')\n",
    "elif player_input == 'papel' and comp == 'pedra':\n",
    "    print('Você ganhou')\n",
    "elif player_input == 'tesoura' and comp == 'papel':\n",
    "    print('Você ganhou')\n",
    "elif player_input == 'pedra' and comp == 'tesoura':\n",
    "    print('Você ganhou')\n",
    "else:\n",
    "    print('Você perdeu, jogue novamente!')"
   ]
  },
  {
   "cell_type": "markdown",
   "id": "b171b697",
   "metadata": {},
   "source": [
    "###  Crie um programa que leia o nome e o preço de vários produtos. O programa deverá perguntar se o usuário vai continuar. No final, mostre:\n",
    "* A) Qual é o total gasto na compra\n",
    "* B) Quantos produtos custam mais de R$ 1.000\n",
    "* C) Qual é o nome do produto mais barato"
   ]
  },
  {
   "cell_type": "code",
   "execution_count": null,
   "id": "2f73a286",
   "metadata": {},
   "outputs": [],
   "source": [
    "somar = mil = menorValor = contador = 0\n",
    "barato = ''\n",
    "while True:\n",
    "    nome = str(input('Qual o nome do produto? '))\n",
    "    valor = float(input('Qual o valor do produto? '))\n",
    "    somar += valor\n",
    "    contador += 1\n",
    "    if valor > 1000:\n",
    "        mil += 1\n",
    "    if contador == 1 or valor < menorValor:\n",
    "        menorValor = valor\n",
    "        barato = nome\n",
    "    continuar = ' '\n",
    "    while continuar not in 'SN':\n",
    "        continuar = str(input('Deseja cadastrar um novo produto? [S/N]: ')).upper()[0]\n",
    "    if continuar == 'N':\n",
    "        break\n",
    "\n",
    "print(f'A soma total dos produtos é de {somar:.2f}')\n",
    "print(f'Teve {mil} produtos que custaram mais que mil reais')\n",
    "print(f'O produto mais barato foi o {barato} de {menorValor:.2f} reais')"
   ]
  }
 ],
 "metadata": {
  "kernelspec": {
   "display_name": "Python 3 (ipykernel)",
   "language": "python",
   "name": "python3"
  },
  "language_info": {
   "codemirror_mode": {
    "name": "ipython",
    "version": 3
   },
   "file_extension": ".py",
   "mimetype": "text/x-python",
   "name": "python",
   "nbconvert_exporter": "python",
   "pygments_lexer": "ipython3",
   "version": "3.9.7"
  }
 },
 "nbformat": 4,
 "nbformat_minor": 5
}
