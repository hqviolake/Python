{
 "cells": [
  {
   "cell_type": "markdown",
   "id": "8d5c62e7",
   "metadata": {},
   "source": [
    "# Analisando os preços das casas de Melbourne"
   ]
  },
  {
   "cell_type": "markdown",
   "id": "51e2ccf9",
   "metadata": {},
   "source": [
    "#### Esse banco de dados pode ser encontrado no link: https://www.kaggle.com/datasets/dansbecker/melbourne-housing-snapshot"
   ]
  },
  {
   "cell_type": "code",
   "execution_count": 1,
   "id": "5c356ab3",
   "metadata": {},
   "outputs": [],
   "source": [
    "import pandas as pd\n",
    "import matplotlib.pyplot as plt\n",
    "import seaborn as sns\n",
    "from pandas_profiling import ProfileReport\n",
    "from sklearn.model_selection import train_test_split\n",
    "from sklearn.linear_model import LinearRegression\n",
    "pd.options.display.float_format= '{:,.2f}'.format\n",
    "%matplotlib inline"
   ]
  },
  {
   "cell_type": "code",
   "execution_count": 13,
   "id": "564db5ec",
   "metadata": {},
   "outputs": [],
   "source": [
    "base = pd.read_csv('Dados/melb_data.csv')"
   ]
  },
  {
   "cell_type": "code",
   "execution_count": 14,
   "id": "c46ffff1",
   "metadata": {},
   "outputs": [
    {
     "data": {
      "text/html": [
       "<div>\n",
       "<style scoped>\n",
       "    .dataframe tbody tr th:only-of-type {\n",
       "        vertical-align: middle;\n",
       "    }\n",
       "\n",
       "    .dataframe tbody tr th {\n",
       "        vertical-align: top;\n",
       "    }\n",
       "\n",
       "    .dataframe thead th {\n",
       "        text-align: right;\n",
       "    }\n",
       "</style>\n",
       "<table border=\"1\" class=\"dataframe\">\n",
       "  <thead>\n",
       "    <tr style=\"text-align: right;\">\n",
       "      <th></th>\n",
       "      <th>Suburb</th>\n",
       "      <th>Address</th>\n",
       "      <th>Rooms</th>\n",
       "      <th>Type</th>\n",
       "      <th>Price</th>\n",
       "      <th>Method</th>\n",
       "      <th>SellerG</th>\n",
       "      <th>Date</th>\n",
       "      <th>Distance</th>\n",
       "      <th>Postcode</th>\n",
       "      <th>...</th>\n",
       "      <th>Bathroom</th>\n",
       "      <th>Car</th>\n",
       "      <th>Landsize</th>\n",
       "      <th>BuildingArea</th>\n",
       "      <th>YearBuilt</th>\n",
       "      <th>CouncilArea</th>\n",
       "      <th>Lattitude</th>\n",
       "      <th>Longtitude</th>\n",
       "      <th>Regionname</th>\n",
       "      <th>Propertycount</th>\n",
       "    </tr>\n",
       "  </thead>\n",
       "  <tbody>\n",
       "    <tr>\n",
       "      <th>0</th>\n",
       "      <td>Abbotsford</td>\n",
       "      <td>85 Turner St</td>\n",
       "      <td>2</td>\n",
       "      <td>h</td>\n",
       "      <td>1,480,000.00</td>\n",
       "      <td>S</td>\n",
       "      <td>Biggin</td>\n",
       "      <td>3/12/2016</td>\n",
       "      <td>2.50</td>\n",
       "      <td>3,067.00</td>\n",
       "      <td>...</td>\n",
       "      <td>1.00</td>\n",
       "      <td>1.00</td>\n",
       "      <td>202.00</td>\n",
       "      <td>NaN</td>\n",
       "      <td>NaN</td>\n",
       "      <td>Yarra</td>\n",
       "      <td>-37.80</td>\n",
       "      <td>145.00</td>\n",
       "      <td>Northern Metropolitan</td>\n",
       "      <td>4,019.00</td>\n",
       "    </tr>\n",
       "    <tr>\n",
       "      <th>1</th>\n",
       "      <td>Abbotsford</td>\n",
       "      <td>25 Bloomburg St</td>\n",
       "      <td>2</td>\n",
       "      <td>h</td>\n",
       "      <td>1,035,000.00</td>\n",
       "      <td>S</td>\n",
       "      <td>Biggin</td>\n",
       "      <td>4/02/2016</td>\n",
       "      <td>2.50</td>\n",
       "      <td>3,067.00</td>\n",
       "      <td>...</td>\n",
       "      <td>1.00</td>\n",
       "      <td>0.00</td>\n",
       "      <td>156.00</td>\n",
       "      <td>79.00</td>\n",
       "      <td>1,900.00</td>\n",
       "      <td>Yarra</td>\n",
       "      <td>-37.81</td>\n",
       "      <td>144.99</td>\n",
       "      <td>Northern Metropolitan</td>\n",
       "      <td>4,019.00</td>\n",
       "    </tr>\n",
       "    <tr>\n",
       "      <th>2</th>\n",
       "      <td>Abbotsford</td>\n",
       "      <td>5 Charles St</td>\n",
       "      <td>3</td>\n",
       "      <td>h</td>\n",
       "      <td>1,465,000.00</td>\n",
       "      <td>SP</td>\n",
       "      <td>Biggin</td>\n",
       "      <td>4/03/2017</td>\n",
       "      <td>2.50</td>\n",
       "      <td>3,067.00</td>\n",
       "      <td>...</td>\n",
       "      <td>2.00</td>\n",
       "      <td>0.00</td>\n",
       "      <td>134.00</td>\n",
       "      <td>150.00</td>\n",
       "      <td>1,900.00</td>\n",
       "      <td>Yarra</td>\n",
       "      <td>-37.81</td>\n",
       "      <td>144.99</td>\n",
       "      <td>Northern Metropolitan</td>\n",
       "      <td>4,019.00</td>\n",
       "    </tr>\n",
       "    <tr>\n",
       "      <th>3</th>\n",
       "      <td>Abbotsford</td>\n",
       "      <td>40 Federation La</td>\n",
       "      <td>3</td>\n",
       "      <td>h</td>\n",
       "      <td>850,000.00</td>\n",
       "      <td>PI</td>\n",
       "      <td>Biggin</td>\n",
       "      <td>4/03/2017</td>\n",
       "      <td>2.50</td>\n",
       "      <td>3,067.00</td>\n",
       "      <td>...</td>\n",
       "      <td>2.00</td>\n",
       "      <td>1.00</td>\n",
       "      <td>94.00</td>\n",
       "      <td>NaN</td>\n",
       "      <td>NaN</td>\n",
       "      <td>Yarra</td>\n",
       "      <td>-37.80</td>\n",
       "      <td>145.00</td>\n",
       "      <td>Northern Metropolitan</td>\n",
       "      <td>4,019.00</td>\n",
       "    </tr>\n",
       "    <tr>\n",
       "      <th>4</th>\n",
       "      <td>Abbotsford</td>\n",
       "      <td>55a Park St</td>\n",
       "      <td>4</td>\n",
       "      <td>h</td>\n",
       "      <td>1,600,000.00</td>\n",
       "      <td>VB</td>\n",
       "      <td>Nelson</td>\n",
       "      <td>4/06/2016</td>\n",
       "      <td>2.50</td>\n",
       "      <td>3,067.00</td>\n",
       "      <td>...</td>\n",
       "      <td>1.00</td>\n",
       "      <td>2.00</td>\n",
       "      <td>120.00</td>\n",
       "      <td>142.00</td>\n",
       "      <td>2,014.00</td>\n",
       "      <td>Yarra</td>\n",
       "      <td>-37.81</td>\n",
       "      <td>144.99</td>\n",
       "      <td>Northern Metropolitan</td>\n",
       "      <td>4,019.00</td>\n",
       "    </tr>\n",
       "  </tbody>\n",
       "</table>\n",
       "<p>5 rows × 21 columns</p>\n",
       "</div>"
      ],
      "text/plain": [
       "       Suburb           Address  Rooms Type        Price Method SellerG  \\\n",
       "0  Abbotsford      85 Turner St      2    h 1,480,000.00      S  Biggin   \n",
       "1  Abbotsford   25 Bloomburg St      2    h 1,035,000.00      S  Biggin   \n",
       "2  Abbotsford      5 Charles St      3    h 1,465,000.00     SP  Biggin   \n",
       "3  Abbotsford  40 Federation La      3    h   850,000.00     PI  Biggin   \n",
       "4  Abbotsford       55a Park St      4    h 1,600,000.00     VB  Nelson   \n",
       "\n",
       "        Date  Distance  Postcode  ...  Bathroom  Car  Landsize  BuildingArea  \\\n",
       "0  3/12/2016      2.50  3,067.00  ...      1.00 1.00    202.00           NaN   \n",
       "1  4/02/2016      2.50  3,067.00  ...      1.00 0.00    156.00         79.00   \n",
       "2  4/03/2017      2.50  3,067.00  ...      2.00 0.00    134.00        150.00   \n",
       "3  4/03/2017      2.50  3,067.00  ...      2.00 1.00     94.00           NaN   \n",
       "4  4/06/2016      2.50  3,067.00  ...      1.00 2.00    120.00        142.00   \n",
       "\n",
       "   YearBuilt  CouncilArea Lattitude  Longtitude             Regionname  \\\n",
       "0        NaN        Yarra    -37.80      145.00  Northern Metropolitan   \n",
       "1   1,900.00        Yarra    -37.81      144.99  Northern Metropolitan   \n",
       "2   1,900.00        Yarra    -37.81      144.99  Northern Metropolitan   \n",
       "3        NaN        Yarra    -37.80      145.00  Northern Metropolitan   \n",
       "4   2,014.00        Yarra    -37.81      144.99  Northern Metropolitan   \n",
       "\n",
       "  Propertycount  \n",
       "0      4,019.00  \n",
       "1      4,019.00  \n",
       "2      4,019.00  \n",
       "3      4,019.00  \n",
       "4      4,019.00  \n",
       "\n",
       "[5 rows x 21 columns]"
      ]
     },
     "execution_count": 14,
     "metadata": {},
     "output_type": "execute_result"
    }
   ],
   "source": [
    "base.head()"
   ]
  },
  {
   "cell_type": "markdown",
   "id": "6611c4cd",
   "metadata": {},
   "source": [
    "### Tratando a base para usar o modelo"
   ]
  },
  {
   "cell_type": "code",
   "execution_count": 15,
   "id": "9447229c",
   "metadata": {},
   "outputs": [],
   "source": [
    "# Vou tirar as colunas que tiverem uma alta cardinalidade\n",
    "base = base.drop(['Suburb', 'Address', 'SellerG', 'Date'], axis=1)"
   ]
  },
  {
   "cell_type": "code",
   "execution_count": 16,
   "id": "97e8c2a7",
   "metadata": {},
   "outputs": [],
   "source": [
    "# Também vamos retirar colunas com mais de 20% de valores nulo\n",
    "base = base.drop(['BuildingArea', 'YearBuilt'], axis=1)"
   ]
  },
  {
   "cell_type": "code",
   "execution_count": 17,
   "id": "eb00fba4",
   "metadata": {},
   "outputs": [
    {
     "data": {
      "text/html": [
       "<div>\n",
       "<style scoped>\n",
       "    .dataframe tbody tr th:only-of-type {\n",
       "        vertical-align: middle;\n",
       "    }\n",
       "\n",
       "    .dataframe tbody tr th {\n",
       "        vertical-align: top;\n",
       "    }\n",
       "\n",
       "    .dataframe thead th {\n",
       "        text-align: right;\n",
       "    }\n",
       "</style>\n",
       "<table border=\"1\" class=\"dataframe\">\n",
       "  <thead>\n",
       "    <tr style=\"text-align: right;\">\n",
       "      <th></th>\n",
       "      <th>Rooms</th>\n",
       "      <th>Type</th>\n",
       "      <th>Price</th>\n",
       "      <th>Method</th>\n",
       "      <th>Distance</th>\n",
       "      <th>Postcode</th>\n",
       "      <th>Bedroom2</th>\n",
       "      <th>Bathroom</th>\n",
       "      <th>Car</th>\n",
       "      <th>Landsize</th>\n",
       "      <th>CouncilArea</th>\n",
       "      <th>Lattitude</th>\n",
       "      <th>Longtitude</th>\n",
       "      <th>Regionname</th>\n",
       "      <th>Propertycount</th>\n",
       "    </tr>\n",
       "  </thead>\n",
       "  <tbody>\n",
       "    <tr>\n",
       "      <th>0</th>\n",
       "      <td>2</td>\n",
       "      <td>h</td>\n",
       "      <td>1,480,000.00</td>\n",
       "      <td>S</td>\n",
       "      <td>2.50</td>\n",
       "      <td>3,067.00</td>\n",
       "      <td>2.00</td>\n",
       "      <td>1.00</td>\n",
       "      <td>1.00</td>\n",
       "      <td>202.00</td>\n",
       "      <td>Yarra</td>\n",
       "      <td>-37.80</td>\n",
       "      <td>145.00</td>\n",
       "      <td>Northern Metropolitan</td>\n",
       "      <td>4,019.00</td>\n",
       "    </tr>\n",
       "    <tr>\n",
       "      <th>1</th>\n",
       "      <td>2</td>\n",
       "      <td>h</td>\n",
       "      <td>1,035,000.00</td>\n",
       "      <td>S</td>\n",
       "      <td>2.50</td>\n",
       "      <td>3,067.00</td>\n",
       "      <td>2.00</td>\n",
       "      <td>1.00</td>\n",
       "      <td>0.00</td>\n",
       "      <td>156.00</td>\n",
       "      <td>Yarra</td>\n",
       "      <td>-37.81</td>\n",
       "      <td>144.99</td>\n",
       "      <td>Northern Metropolitan</td>\n",
       "      <td>4,019.00</td>\n",
       "    </tr>\n",
       "    <tr>\n",
       "      <th>2</th>\n",
       "      <td>3</td>\n",
       "      <td>h</td>\n",
       "      <td>1,465,000.00</td>\n",
       "      <td>SP</td>\n",
       "      <td>2.50</td>\n",
       "      <td>3,067.00</td>\n",
       "      <td>3.00</td>\n",
       "      <td>2.00</td>\n",
       "      <td>0.00</td>\n",
       "      <td>134.00</td>\n",
       "      <td>Yarra</td>\n",
       "      <td>-37.81</td>\n",
       "      <td>144.99</td>\n",
       "      <td>Northern Metropolitan</td>\n",
       "      <td>4,019.00</td>\n",
       "    </tr>\n",
       "    <tr>\n",
       "      <th>3</th>\n",
       "      <td>3</td>\n",
       "      <td>h</td>\n",
       "      <td>850,000.00</td>\n",
       "      <td>PI</td>\n",
       "      <td>2.50</td>\n",
       "      <td>3,067.00</td>\n",
       "      <td>3.00</td>\n",
       "      <td>2.00</td>\n",
       "      <td>1.00</td>\n",
       "      <td>94.00</td>\n",
       "      <td>Yarra</td>\n",
       "      <td>-37.80</td>\n",
       "      <td>145.00</td>\n",
       "      <td>Northern Metropolitan</td>\n",
       "      <td>4,019.00</td>\n",
       "    </tr>\n",
       "    <tr>\n",
       "      <th>4</th>\n",
       "      <td>4</td>\n",
       "      <td>h</td>\n",
       "      <td>1,600,000.00</td>\n",
       "      <td>VB</td>\n",
       "      <td>2.50</td>\n",
       "      <td>3,067.00</td>\n",
       "      <td>3.00</td>\n",
       "      <td>1.00</td>\n",
       "      <td>2.00</td>\n",
       "      <td>120.00</td>\n",
       "      <td>Yarra</td>\n",
       "      <td>-37.81</td>\n",
       "      <td>144.99</td>\n",
       "      <td>Northern Metropolitan</td>\n",
       "      <td>4,019.00</td>\n",
       "    </tr>\n",
       "  </tbody>\n",
       "</table>\n",
       "</div>"
      ],
      "text/plain": [
       "   Rooms Type        Price Method  Distance  Postcode  Bedroom2  Bathroom  \\\n",
       "0      2    h 1,480,000.00      S      2.50  3,067.00      2.00      1.00   \n",
       "1      2    h 1,035,000.00      S      2.50  3,067.00      2.00      1.00   \n",
       "2      3    h 1,465,000.00     SP      2.50  3,067.00      3.00      2.00   \n",
       "3      3    h   850,000.00     PI      2.50  3,067.00      3.00      2.00   \n",
       "4      4    h 1,600,000.00     VB      2.50  3,067.00      3.00      1.00   \n",
       "\n",
       "   Car  Landsize CouncilArea  Lattitude  Longtitude             Regionname  \\\n",
       "0 1.00    202.00       Yarra     -37.80      145.00  Northern Metropolitan   \n",
       "1 0.00    156.00       Yarra     -37.81      144.99  Northern Metropolitan   \n",
       "2 0.00    134.00       Yarra     -37.81      144.99  Northern Metropolitan   \n",
       "3 1.00     94.00       Yarra     -37.80      145.00  Northern Metropolitan   \n",
       "4 2.00    120.00       Yarra     -37.81      144.99  Northern Metropolitan   \n",
       "\n",
       "   Propertycount  \n",
       "0       4,019.00  \n",
       "1       4,019.00  \n",
       "2       4,019.00  \n",
       "3       4,019.00  \n",
       "4       4,019.00  "
      ]
     },
     "execution_count": 17,
     "metadata": {},
     "output_type": "execute_result"
    }
   ],
   "source": [
    "base.head()"
   ]
  },
  {
   "cell_type": "markdown",
   "id": "5ffc6662",
   "metadata": {},
   "source": [
    "### Correlação entre as variáveis\n"
   ]
  },
  {
   "cell_type": "code",
   "execution_count": 20,
   "id": "6de8ee9b",
   "metadata": {},
   "outputs": [
    {
     "data": {
      "text/plain": [
       "<AxesSubplot:>"
      ]
     },
     "execution_count": 20,
     "metadata": {},
     "output_type": "execute_result"
    },
    {
     "data": {
      "image/png": "[encoded data removed]",
      "text/plain": [
       "<Figure size 936x576 with 2 Axes>"
      ]
     },
     "metadata": {
      "needs_background": "light"
     },
     "output_type": "display_data"
    }
   ],
   "source": [
    "plt.figure(figsize=(13,8))\n",
    "sns.heatmap(base.corr(),annot=True, cmap='YlGnBu')"
   ]
  },
  {
   "cell_type": "code",
   "execution_count": 67,
   "id": "fc591216",
   "metadata": {},
   "outputs": [],
   "source": [
    "base1 = base[[\"Price\", \"Rooms\", \"Bathroom\",\"Bedroom2\", \"Car\", \"Landsize\"]]"
   ]
  },
  {
   "cell_type": "markdown",
   "id": "b4f5d563",
   "metadata": {},
   "source": [
    "### Verificando a base tratada"
   ]
  },
  {
   "cell_type": "code",
   "execution_count": 22,
   "id": "662ca784",
   "metadata": {},
   "outputs": [
    {
     "name": "stdout",
     "output_type": "stream",
     "text": [
      "<class 'pandas.core.frame.DataFrame'>\n",
      "RangeIndex: 13580 entries, 0 to 13579\n",
      "Data columns (total 6 columns):\n",
      " #   Column    Non-Null Count  Dtype  \n",
      "---  ------    --------------  -----  \n",
      " 0   Price     13580 non-null  float64\n",
      " 1   Rooms     13580 non-null  int64  \n",
      " 2   Bathroom  13580 non-null  float64\n",
      " 3   Bedroom2  13580 non-null  float64\n",
      " 4   Car       13518 non-null  float64\n",
      " 5   Landsize  13580 non-null  float64\n",
      "dtypes: float64(5), int64(1)\n",
      "memory usage: 636.7 KB\n"
     ]
    }
   ],
   "source": [
    "base1.info()"
   ]
  },
  {
   "cell_type": "markdown",
   "id": "0edb1010",
   "metadata": {},
   "source": [
    "#### Dropando os valores nulos de car"
   ]
  },
  {
   "cell_type": "code",
   "execution_count": 23,
   "id": "b18ad8db",
   "metadata": {},
   "outputs": [],
   "source": [
    "base1 = base1.dropna(axis=0)"
   ]
  },
  {
   "cell_type": "code",
   "execution_count": 24,
   "id": "9edb7750",
   "metadata": {},
   "outputs": [
    {
     "name": "stdout",
     "output_type": "stream",
     "text": [
      "<class 'pandas.core.frame.DataFrame'>\n",
      "Int64Index: 13518 entries, 0 to 13579\n",
      "Data columns (total 6 columns):\n",
      " #   Column    Non-Null Count  Dtype  \n",
      "---  ------    --------------  -----  \n",
      " 0   Price     13518 non-null  float64\n",
      " 1   Rooms     13518 non-null  int64  \n",
      " 2   Bathroom  13518 non-null  float64\n",
      " 3   Bedroom2  13518 non-null  float64\n",
      " 4   Car       13518 non-null  float64\n",
      " 5   Landsize  13518 non-null  float64\n",
      "dtypes: float64(5), int64(1)\n",
      "memory usage: 739.3 KB\n"
     ]
    }
   ],
   "source": [
    "base1.info()"
   ]
  },
  {
   "cell_type": "code",
   "execution_count": 25,
   "id": "fc8bd1e5",
   "metadata": {},
   "outputs": [
    {
     "data": {
      "text/html": [
       "<div>\n",
       "<style scoped>\n",
       "    .dataframe tbody tr th:only-of-type {\n",
       "        vertical-align: middle;\n",
       "    }\n",
       "\n",
       "    .dataframe tbody tr th {\n",
       "        vertical-align: top;\n",
       "    }\n",
       "\n",
       "    .dataframe thead th {\n",
       "        text-align: right;\n",
       "    }\n",
       "</style>\n",
       "<table border=\"1\" class=\"dataframe\">\n",
       "  <thead>\n",
       "    <tr style=\"text-align: right;\">\n",
       "      <th></th>\n",
       "      <th>Price</th>\n",
       "      <th>Rooms</th>\n",
       "      <th>Bathroom</th>\n",
       "      <th>Bedroom2</th>\n",
       "      <th>Car</th>\n",
       "      <th>Landsize</th>\n",
       "    </tr>\n",
       "  </thead>\n",
       "  <tbody>\n",
       "    <tr>\n",
       "      <th>0</th>\n",
       "      <td>1,480,000.00</td>\n",
       "      <td>2</td>\n",
       "      <td>1.00</td>\n",
       "      <td>2.00</td>\n",
       "      <td>1.00</td>\n",
       "      <td>202.00</td>\n",
       "    </tr>\n",
       "    <tr>\n",
       "      <th>1</th>\n",
       "      <td>1,035,000.00</td>\n",
       "      <td>2</td>\n",
       "      <td>1.00</td>\n",
       "      <td>2.00</td>\n",
       "      <td>0.00</td>\n",
       "      <td>156.00</td>\n",
       "    </tr>\n",
       "    <tr>\n",
       "      <th>2</th>\n",
       "      <td>1,465,000.00</td>\n",
       "      <td>3</td>\n",
       "      <td>2.00</td>\n",
       "      <td>3.00</td>\n",
       "      <td>0.00</td>\n",
       "      <td>134.00</td>\n",
       "    </tr>\n",
       "    <tr>\n",
       "      <th>3</th>\n",
       "      <td>850,000.00</td>\n",
       "      <td>3</td>\n",
       "      <td>2.00</td>\n",
       "      <td>3.00</td>\n",
       "      <td>1.00</td>\n",
       "      <td>94.00</td>\n",
       "    </tr>\n",
       "    <tr>\n",
       "      <th>4</th>\n",
       "      <td>1,600,000.00</td>\n",
       "      <td>4</td>\n",
       "      <td>1.00</td>\n",
       "      <td>3.00</td>\n",
       "      <td>2.00</td>\n",
       "      <td>120.00</td>\n",
       "    </tr>\n",
       "  </tbody>\n",
       "</table>\n",
       "</div>"
      ],
      "text/plain": [
       "         Price  Rooms  Bathroom  Bedroom2  Car  Landsize\n",
       "0 1,480,000.00      2      1.00      2.00 1.00    202.00\n",
       "1 1,035,000.00      2      1.00      2.00 0.00    156.00\n",
       "2 1,465,000.00      3      2.00      3.00 0.00    134.00\n",
       "3   850,000.00      3      2.00      3.00 1.00     94.00\n",
       "4 1,600,000.00      4      1.00      3.00 2.00    120.00"
      ]
     },
     "execution_count": 25,
     "metadata": {},
     "output_type": "execute_result"
    }
   ],
   "source": [
    "base1.head()"
   ]
  },
  {
   "cell_type": "markdown",
   "id": "26173d3d",
   "metadata": {},
   "source": [
    "### Criando o modelo de ML"
   ]
  },
  {
   "cell_type": "code",
   "execution_count": 27,
   "id": "6b912a30",
   "metadata": {},
   "outputs": [],
   "source": [
    "Y = base1.Price\n",
    "X = base1.drop('Price', axis = 1)"
   ]
  },
  {
   "cell_type": "code",
   "execution_count": 36,
   "id": "bedaa005",
   "metadata": {},
   "outputs": [],
   "source": [
    "x_treino, x_teste, y_treino, y_teste = train_test_split(X,Y)"
   ]
  },
  {
   "cell_type": "markdown",
   "id": "8e6051be",
   "metadata": {},
   "source": [
    "### Regressão Linear"
   ]
  },
  {
   "cell_type": "code",
   "execution_count": 37,
   "id": "afa03779",
   "metadata": {},
   "outputs": [],
   "source": [
    "# Importando o Modelo\n",
    "from sklearn.model_selection import train_test_split\n",
    "\n",
    "# Instanciando\n",
    "modelo_regressao = LinearRegression()\n",
    "\n",
    "# Realizando o fit do modelo\n",
    "modelo_regressao.fit(x_treino, y_treino)\n",
    "\n",
    "# Usando o modelo para prever os dados de teste\n",
    "y_regressao = modelo_regressao.predict(x_teste)"
   ]
  },
  {
   "cell_type": "code",
   "execution_count": 38,
   "id": "eb19db33",
   "metadata": {},
   "outputs": [
    {
     "data": {
      "image/png": "[encoded data removed]",
      "text/plain": [
       "<Figure size 720x720 with 1 Axes>"
      ]
     },
     "metadata": {
      "needs_background": "light"
     },
     "output_type": "display_data"
    }
   ],
   "source": [
    "# Podemos visualizar os pontos previstos X real\n",
    "plt.figure(figsize=(10,10))\n",
    "sns.scatterplot(x=y_teste.values/1000000, y=y_regressao/1000000)\n",
    "plt.ylim(0,10)\n",
    "plt.xlim(0,10)\n",
    "plt.show()"
   ]
  },
  {
   "cell_type": "code",
   "execution_count": 40,
   "id": "7a7e3fe4",
   "metadata": {},
   "outputs": [
    {
     "name": "stdout",
     "output_type": "stream",
     "text": [
      "282539124153.4791\n"
     ]
    }
   ],
   "source": [
    "# Avaliando o erro quadrático médio\n",
    "from sklearn.metrics import mean_squared_error\n",
    "erro_quadratico_regressao = mean_squared_error(y_teste, y_regressao)\n",
    "print(erro_quadratico_regressao)"
   ]
  },
  {
   "cell_type": "code",
   "execution_count": 41,
   "id": "1d82397e",
   "metadata": {},
   "outputs": [
    {
     "name": "stdout",
     "output_type": "stream",
     "text": [
      "0.3056223388561333\n"
     ]
    }
   ],
   "source": [
    "# Avaliando o R quadrado\n",
    "from sklearn.metrics import r2_score\n",
    "r2_regressao = r2_score(y_teste, y_regressao)\n",
    "print(r2_regressao)"
   ]
  },
  {
   "cell_type": "markdown",
   "id": "f357e0c7",
   "metadata": {},
   "source": [
    "### Regressão Linear: Selecionando outras colunas"
   ]
  },
  {
   "cell_type": "code",
   "execution_count": 48,
   "id": "7dbb1406",
   "metadata": {},
   "outputs": [],
   "source": [
    "base2 = base[['Price', 'Rooms', 'Bathroom', 'Bedroom2', 'Car', 'Longtitude', 'Lattitude', 'Distance', 'Landsize', 'Postcode', 'Propertycount']]"
   ]
  },
  {
   "cell_type": "code",
   "execution_count": 46,
   "id": "33250814",
   "metadata": {},
   "outputs": [
    {
     "data": {
      "text/plain": [
       "Index(['Rooms', 'Type', 'Price', 'Method', 'Distance', 'Postcode', 'Bedroom2',\n",
       "       'Bathroom', 'Car', 'Landsize', 'CouncilArea', 'Lattitude', 'Longtitude',\n",
       "       'Regionname', 'Propertycount'],\n",
       "      dtype='object')"
      ]
     },
     "execution_count": 46,
     "metadata": {},
     "output_type": "execute_result"
    }
   ],
   "source": [
    "base.columns"
   ]
  },
  {
   "cell_type": "code",
   "execution_count": 50,
   "id": "33c06084",
   "metadata": {},
   "outputs": [
    {
     "name": "stdout",
     "output_type": "stream",
     "text": [
      "<class 'pandas.core.frame.DataFrame'>\n",
      "Int64Index: 13518 entries, 0 to 13579\n",
      "Data columns (total 11 columns):\n",
      " #   Column         Non-Null Count  Dtype  \n",
      "---  ------         --------------  -----  \n",
      " 0   Price          13518 non-null  float64\n",
      " 1   Rooms          13518 non-null  int64  \n",
      " 2   Bathroom       13518 non-null  float64\n",
      " 3   Bedroom2       13518 non-null  float64\n",
      " 4   Car            13518 non-null  float64\n",
      " 5   Longtitude     13518 non-null  float64\n",
      " 6   Lattitude      13518 non-null  float64\n",
      " 7   Distance       13518 non-null  float64\n",
      " 8   Landsize       13518 non-null  float64\n",
      " 9   Postcode       13518 non-null  float64\n",
      " 10  Propertycount  13518 non-null  float64\n",
      "dtypes: float64(10), int64(1)\n",
      "memory usage: 1.2 MB\n"
     ]
    }
   ],
   "source": [
    "# Verificando os valores nulos e tratando\n",
    "base2 = base2.dropna(axis=0)\n",
    "base2.info()"
   ]
  },
  {
   "cell_type": "markdown",
   "id": "ed4e31c9",
   "metadata": {},
   "source": [
    "#### Realizei as mesmas etapas anteriormente"
   ]
  },
  {
   "cell_type": "code",
   "execution_count": 56,
   "id": "793876ea",
   "metadata": {},
   "outputs": [
    {
     "name": "stdout",
     "output_type": "stream",
     "text": [
      "Erro Quadrático Médio: 202689363011.38284\n",
      "R2: 0.3056223388561333\n"
     ]
    }
   ],
   "source": [
    "# 1 .Separar a base\n",
    "Y = base2.Price\n",
    "X = base2.drop('Price', axis=1)\n",
    "\n",
    "# 2. Dividindo em treino e teste\n",
    "x_treino, x_teste, y_treino, y_teste = train_test_split(X,Y)\n",
    "\n",
    "## Fazendo o fit para os novos dados\n",
    "# 3. Instanciando\n",
    "modelo_regressao2 = LinearRegression()\n",
    "\n",
    "# 4. Realizando o fit do modelo\n",
    "modelo_regressao2.fit(x_treino, y_treino)\n",
    "\n",
    "# 5. Usando o modelo para prever os dados de teste\n",
    "y_regressao2 = modelo_regressao2.predict(x_teste)\n",
    "\n",
    "## Avaliando os Erros\n",
    "# 6. Erro quadrático médio\n",
    "erro_quadratico_regressao2 = mean_squared_error(y_teste, y_regressao2)\n",
    "print(f'Erro Quadrático Médio: {erro_quadratico_regressao2}')\n",
    "\n",
    "# 7. R_quadrado\n",
    "r2_regressao2 = r2_score(y_teste, y_regressao2)\n",
    "print(f'R2: {r2_regressao}')"
   ]
  },
  {
   "cell_type": "code",
   "execution_count": 59,
   "id": "580863c2",
   "metadata": {},
   "outputs": [
    {
     "data": {
      "image/png": "[encoded data removed]",
      "text/plain": [
       "<Figure size 720x720 with 1 Axes>"
      ]
     },
     "metadata": {
      "needs_background": "light"
     },
     "output_type": "display_data"
    }
   ],
   "source": [
    "# Podemos Visualizar os Pontos Previstos x Real\n",
    "plt.figure(figsize=(10,10))\n",
    "sns.scatterplot(x=y_teste.values/1000000, y=y_regressao2/1000000)\n",
    "plt.ylim(0,10)\n",
    "plt.xlim(0,10)\n",
    "plt.show()"
   ]
  },
  {
   "cell_type": "markdown",
   "id": "907ab938",
   "metadata": {},
   "source": [
    "### Árvore de Decisão"
   ]
  },
  {
   "cell_type": "code",
   "execution_count": 61,
   "id": "199c41ec",
   "metadata": {},
   "outputs": [],
   "source": [
    "# Importando o modelo\n",
    "from sklearn.tree import DecisionTreeRegressor\n",
    "\n",
    "# Instanciando \n",
    "modelo_arvore_decisao = DecisionTreeRegressor()\n",
    "\n",
    "# Realizando o fit do modelo\n",
    "modelo_arvore_decisao.fit(x_treino, y_treino)\n",
    "\n",
    "# Usando o modelo para prever os dados de teste\n",
    "y_arvore_decisao = modelo_arvore_decisao.predict(x_teste)"
   ]
  },
  {
   "cell_type": "code",
   "execution_count": 64,
   "id": "f365ac02",
   "metadata": {},
   "outputs": [
    {
     "name": "stdout",
     "output_type": "stream",
     "text": [
      "Erro Quadrático Árvore de Decisão: 190028262597.76865\n",
      "R2 Árvore de Decisão : 0.5183945462552328\n"
     ]
    }
   ],
   "source": [
    "## Avaliando os erros\n",
    "# Erro quadrático médio\n",
    "erro_quadratico_arvore_decisao = mean_squared_error(y_teste, y_arvore_decisao)\n",
    "print(f'Erro Quadrático Árvore de Decisão: {erro_quadratico_arvore_decisao}')\n",
    "\n",
    "# R Quadrado\n",
    "r2_arvore_decisao = r2_score(y_teste, y_arvore_decisao)\n",
    "print(f'R2 Árvore de Decisão : {r2_arvore_decisao}')"
   ]
  },
  {
   "cell_type": "markdown",
   "id": "1488dca5",
   "metadata": {},
   "source": [
    "### Fazendo um resumo dos resultados"
   ]
  },
  {
   "cell_type": "code",
   "execution_count": 66,
   "id": "7b89db3f",
   "metadata": {
    "scrolled": true
   },
   "outputs": [
    {
     "name": "stdout",
     "output_type": "stream",
     "text": [
      "Regressão Linear\n",
      "Erro quadrático médio 282539124153.48\n",
      "R quadrado 0.3056\n",
      "-----------------------------------------\n",
      "Regressão Linear: novas features\n",
      "Erro quadrático médio 202689363011.3828\n",
      "R quadrado 0.4863\n",
      "-----------------------------------------\n",
      "Árvore de Decisão\n",
      "Erro quadrático médio 190028262597.77\n",
      "R quadrado 0.5184\n"
     ]
    }
   ],
   "source": [
    "print('Regressão Linear')\n",
    "print('Erro quadrático médio ' + str(round(erro_quadratico_regressao, 2)))\n",
    "print('R quadrado ' + str(round(r2_regressao, 4)))\n",
    "print('-----------------------------------------')\n",
    "print('Regressão Linear: novas features')\n",
    "print('Erro quadrático médio ' + str(round(erro_quadratico_regressao2, 4)))\n",
    "print('R quadrado ' + str(round(r2_regressao2, 4)))\n",
    "print('-----------------------------------------')\n",
    "print('Árvore de Decisão')\n",
    "print('Erro quadrático médio ' + str(round(erro_quadratico_arvore_decisao, 2)))\n",
    "print('R quadrado ' + str(round(r2_arvore_decisao, 4)))"
   ]
  },
  {
   "cell_type": "markdown",
   "id": "ab5d63a0",
   "metadata": {},
   "source": [
    "#### O modelo de Árvore de Decisão teve o melhor resultado, maior R² e menor Erro Quadrático Médio entre os outros modelos"
   ]
  }
 ],
 "metadata": {
  "kernelspec": {
   "display_name": "Python 3 (ipykernel)",
   "language": "python",
   "name": "python3"
  },
  "language_info": {
   "codemirror_mode": {
    "name": "ipython",
    "version": 3
   },
   "file_extension": ".py",
   "mimetype": "text/x-python",
   "name": "python",
   "nbconvert_exporter": "python",
   "pygments_lexer": "ipython3",
   "version": "3.9.7"
  }
 },
 "nbformat": 4,
 "nbformat_minor": 5
}
